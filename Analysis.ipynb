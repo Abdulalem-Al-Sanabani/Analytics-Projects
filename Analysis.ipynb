{
 "cells": [
  {
   "cell_type": "code",
   "execution_count": 3,
   "metadata": {},
   "outputs": [
    {
     "name": "stdout",
     "output_type": "stream",
     "text": [
      "Index(['leadtime in days', 'District_Name', 'District_Code'], dtype='object')\n"
     ]
    },
    {
     "name": "stderr",
     "output_type": "stream",
     "text": [
      "/workspaces/Analytics-Projects/cleaners.py:9: UserWarning: Parsing dates in %d/%m/%Y %H%M format when dayfirst=False (the default) was specified. Pass `dayfirst=True` or specify a format to silence this warning.\n",
      "  df[c]=pd.to_datetime(df[c], errors='coerce')\n",
      "/workspaces/Analytics-Projects/cleaners.py:9: UserWarning: Parsing dates in %d/%m/%Y %H%M format when dayfirst=False (the default) was specified. Pass `dayfirst=True` or specify a format to silence this warning.\n",
      "  df[c]=pd.to_datetime(df[c], errors='coerce')\n",
      "/workspaces/Analytics-Projects/cleaners.py:9: UserWarning: Parsing dates in %d/%m/%Y %H%M format when dayfirst=False (the default) was specified. Pass `dayfirst=True` or specify a format to silence this warning.\n",
      "  df[c]=pd.to_datetime(df[c], errors='coerce')\n"
     ]
    }
   ],
   "source": [
    "from cleaners import Cleaner\n",
    "import pandas as pd \n",
    "\n",
    "df=pd.read_excel(\"26_May_2024 _Daily.xlsx\", sheet_name=\"67\")\n",
    "# print(df.info())\n",
    "cln=Cleaner()\n",
    "\n",
    "df_1=cln.clean_df(df)\n",
    "\n",
    "# df_1[df_1.columns[df_1.columns.str.contains(\"Date\")]].info()\n",
    "\n",
    "df_2=cln.prep(df_1)\n",
    "print(df_2.columns[-3:])"
   ]
  },
  {
   "cell_type": "code",
   "execution_count": 4,
   "metadata": {},
   "outputs": [
    {
     "name": "stdout",
     "output_type": "stream",
     "text": [
      "Index(['leadtime in days', 'District_Name', 'District_Code'], dtype='object')\n"
     ]
    }
   ],
   "source": [
    "\n",
    "print(df_2.columns[-3:])"
   ]
  },
  {
   "cell_type": "code",
   "execution_count": 5,
   "metadata": {},
   "outputs": [
    {
     "data": {
      "text/plain": [
       "Index(['Net Delivery MT'], dtype='object')"
      ]
     },
     "execution_count": 5,
     "metadata": {},
     "output_type": "execute_result"
    }
   ],
   "source": [
    "df_2.columns[df_2.columns.str.contains(\"Net Deli\")]"
   ]
  },
  {
   "cell_type": "code",
   "execution_count": null,
   "metadata": {},
   "outputs": [],
   "source": []
  },
  {
   "cell_type": "code",
   "execution_count": null,
   "metadata": {},
   "outputs": [],
   "source": []
  },
  {
   "cell_type": "code",
   "execution_count": 8,
   "metadata": {},
   "outputs": [
    {
     "data": {
      "text/html": [
       "<div>\n",
       "<style scoped>\n",
       "    .dataframe tbody tr th:only-of-type {\n",
       "        vertical-align: middle;\n",
       "    }\n",
       "\n",
       "    .dataframe tbody tr th {\n",
       "        vertical-align: top;\n",
       "    }\n",
       "\n",
       "    .dataframe thead tr th {\n",
       "        text-align: left;\n",
       "    }\n",
       "\n",
       "    .dataframe thead tr:last-of-type th {\n",
       "        text-align: right;\n",
       "    }\n",
       "</style>\n",
       "<table border=\"1\" class=\"dataframe\">\n",
       "  <thead>\n",
       "    <tr>\n",
       "      <th></th>\n",
       "      <th></th>\n",
       "      <th colspan=\"5\" halign=\"left\">Net Delivery MT</th>\n",
       "      <th colspan=\"4\" halign=\"left\">leadtime in days</th>\n",
       "    </tr>\n",
       "    <tr>\n",
       "      <th></th>\n",
       "      <th></th>\n",
       "      <th>sum</th>\n",
       "      <th>min</th>\n",
       "      <th>max</th>\n",
       "      <th>count</th>\n",
       "      <th>mean</th>\n",
       "      <th>min</th>\n",
       "      <th>max</th>\n",
       "      <th>count</th>\n",
       "      <th>mean</th>\n",
       "    </tr>\n",
       "    <tr>\n",
       "      <th>District_Name</th>\n",
       "      <th>District_Code</th>\n",
       "      <th></th>\n",
       "      <th></th>\n",
       "      <th></th>\n",
       "      <th></th>\n",
       "      <th></th>\n",
       "      <th></th>\n",
       "      <th></th>\n",
       "      <th></th>\n",
       "      <th></th>\n",
       "    </tr>\n",
       "  </thead>\n",
       "  <tbody>\n",
       "    <tr>\n",
       "      <th>As Safra</th>\n",
       "      <th>2212</th>\n",
       "      <td>1.455</td>\n",
       "      <td>0.300</td>\n",
       "      <td>0.660</td>\n",
       "      <td>3</td>\n",
       "      <td>0.485000</td>\n",
       "      <td>2 days</td>\n",
       "      <td>2 days</td>\n",
       "      <td>3</td>\n",
       "      <td>2 days</td>\n",
       "    </tr>\n",
       "    <tr>\n",
       "      <th>Ghamer</th>\n",
       "      <th>2204</th>\n",
       "      <td>0.195</td>\n",
       "      <td>0.195</td>\n",
       "      <td>0.195</td>\n",
       "      <td>1</td>\n",
       "      <td>0.195000</td>\n",
       "      <td>2 days</td>\n",
       "      <td>2 days</td>\n",
       "      <td>1</td>\n",
       "      <td>2 days</td>\n",
       "    </tr>\n",
       "    <tr>\n",
       "      <th>Hasabaa, St-Sana'a</th>\n",
       "      <th>0</th>\n",
       "      <td>34.635</td>\n",
       "      <td>0.000</td>\n",
       "      <td>2.640</td>\n",
       "      <td>67</td>\n",
       "      <td>0.516940</td>\n",
       "      <td>2 days</td>\n",
       "      <td>2 days</td>\n",
       "      <td>67</td>\n",
       "      <td>2 days</td>\n",
       "    </tr>\n",
       "    <tr>\n",
       "      <th>Haydan</th>\n",
       "      <th>2209</th>\n",
       "      <td>19.290</td>\n",
       "      <td>6.150</td>\n",
       "      <td>13.140</td>\n",
       "      <td>2</td>\n",
       "      <td>9.645000</td>\n",
       "      <td>2 days</td>\n",
       "      <td>2 days</td>\n",
       "      <td>2</td>\n",
       "      <td>2 days</td>\n",
       "    </tr>\n",
       "    <tr>\n",
       "      <th>Razih</th>\n",
       "      <th>2205</th>\n",
       "      <td>4.755</td>\n",
       "      <td>0.375</td>\n",
       "      <td>1.680</td>\n",
       "      <td>6</td>\n",
       "      <td>0.792500</td>\n",
       "      <td>2 days</td>\n",
       "      <td>2 days</td>\n",
       "      <td>6</td>\n",
       "      <td>2 days</td>\n",
       "    </tr>\n",
       "    <tr>\n",
       "      <th>Sa'ada</th>\n",
       "      <th>2215</th>\n",
       "      <td>8.865</td>\n",
       "      <td>0.165</td>\n",
       "      <td>3.300</td>\n",
       "      <td>7</td>\n",
       "      <td>1.266429</td>\n",
       "      <td>2 days</td>\n",
       "      <td>2 days</td>\n",
       "      <td>7</td>\n",
       "      <td>2 days</td>\n",
       "    </tr>\n",
       "    <tr>\n",
       "      <th>Sahar</th>\n",
       "      <th>2211</th>\n",
       "      <td>10.005</td>\n",
       "      <td>0.330</td>\n",
       "      <td>2.970</td>\n",
       "      <td>9</td>\n",
       "      <td>1.111667</td>\n",
       "      <td>2 days</td>\n",
       "      <td>2 days</td>\n",
       "      <td>9</td>\n",
       "      <td>2 days</td>\n",
       "    </tr>\n",
       "    <tr>\n",
       "      <th>Shada</th>\n",
       "      <th>2206</th>\n",
       "      <td>0.270</td>\n",
       "      <td>0.135</td>\n",
       "      <td>0.135</td>\n",
       "      <td>2</td>\n",
       "      <td>0.135000</td>\n",
       "      <td>2 days</td>\n",
       "      <td>2 days</td>\n",
       "      <td>2</td>\n",
       "      <td>2 days</td>\n",
       "    </tr>\n",
       "  </tbody>\n",
       "</table>\n",
       "</div>"
      ],
      "text/plain": [
       "                                 Net Delivery MT                       \\\n",
       "                                             sum    min     max count   \n",
       "District_Name      District_Code                                        \n",
       "As Safra           2212                    1.455  0.300   0.660     3   \n",
       "Ghamer             2204                    0.195  0.195   0.195     1   \n",
       "Hasabaa, St-Sana'a 0                      34.635  0.000   2.640    67   \n",
       "Haydan             2209                   19.290  6.150  13.140     2   \n",
       "Razih              2205                    4.755  0.375   1.680     6   \n",
       "Sa'ada             2215                    8.865  0.165   3.300     7   \n",
       "Sahar              2211                   10.005  0.330   2.970     9   \n",
       "Shada              2206                    0.270  0.135   0.135     2   \n",
       "\n",
       "                                           leadtime in days               \\\n",
       "                                      mean              min    max count   \n",
       "District_Name      District_Code                                           \n",
       "As Safra           2212           0.485000           2 days 2 days     3   \n",
       "Ghamer             2204           0.195000           2 days 2 days     1   \n",
       "Hasabaa, St-Sana'a 0              0.516940           2 days 2 days    67   \n",
       "Haydan             2209           9.645000           2 days 2 days     2   \n",
       "Razih              2205           0.792500           2 days 2 days     6   \n",
       "Sa'ada             2215           1.266429           2 days 2 days     7   \n",
       "Sahar              2211           1.111667           2 days 2 days     9   \n",
       "Shada              2206           0.135000           2 days 2 days     2   \n",
       "\n",
       "                                         \n",
       "                                   mean  \n",
       "District_Name      District_Code         \n",
       "As Safra           2212          2 days  \n",
       "Ghamer             2204          2 days  \n",
       "Hasabaa, St-Sana'a 0             2 days  \n",
       "Haydan             2209          2 days  \n",
       "Razih              2205          2 days  \n",
       "Sa'ada             2215          2 days  \n",
       "Sahar              2211          2 days  \n",
       "Shada              2206          2 days  "
      ]
     },
     "execution_count": 8,
     "metadata": {},
     "output_type": "execute_result"
    }
   ],
   "source": [
    "df_2.groupby(['District_Name', 'District_Code'])[['leadtime in days','Net Delivery MT']].agg({\n",
    "    \"Net Delivery MT\":['sum','min','max','count','mean'],\n",
    "    \"leadtime in days\":['min','max','count','mean']\n",
    "})"
   ]
  }
 ],
 "metadata": {
  "kernelspec": {
   "display_name": "Python 3",
   "language": "python",
   "name": "python3"
  },
  "language_info": {
   "codemirror_mode": {
    "name": "ipython",
    "version": 3
   },
   "file_extension": ".py",
   "mimetype": "text/x-python",
   "name": "python",
   "nbconvert_exporter": "python",
   "pygments_lexer": "ipython3",
   "version": "3.12.3"
  }
 },
 "nbformat": 4,
 "nbformat_minor": 2
}
